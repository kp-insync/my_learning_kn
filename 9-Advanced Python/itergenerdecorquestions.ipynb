{
 "cells": [
  {
   "cell_type": "markdown",
   "metadata": {},
   "source": [
    "# Module: Iterators, Generators, and Decorators Assignments\n",
    "## Lesson: Iterators, Generators, and Decorators\n",
    "### Assignment 1: Custom Iterator\n",
    "\n",
    "Create a custom iterator class named `Countdown` that takes a number and counts down to zero. Implement the `__iter__` and `__next__` methods. Test the iterator by using it in a for loop."
   ]
  },
  {
   "cell_type": "code",
   "execution_count": 3,
   "id": "a28bbe39",
   "metadata": {},
   "outputs": [
    {
     "name": "stdout",
     "output_type": "stream",
     "text": [
      "10\n",
      "9\n",
      "8\n",
      "7\n",
      "6\n",
      "5\n",
      "4\n",
      "3\n",
      "2\n",
      "1\n"
     ]
    }
   ],
   "source": [
    "class Countdown:\n",
    "    def __init__(self, number):\n",
    "        self.current = number\n",
    "\n",
    "    def __iter__(self):\n",
    "        return self\n",
    "\n",
    "    def __next__(self):\n",
    "        if self.current <= 0:\n",
    "            raise StopIteration\n",
    "        else:\n",
    "            self.current -= 1\n",
    "            return self.current\n",
    "        \n",
    "        \n",
    "for number in Countdown(10):\n",
    "    print(number)"
   ]
  },
  {
   "cell_type": "markdown",
   "id": "4fd8578e",
   "metadata": {},
   "source": [
    "### Assignment 2: Custom Iterable Class\n",
    "\n",
    "Create a class named `MyRange` that mimics the behavior of the built-in `range` function. Implement the `__iter__` and `__next__` methods. Test the class by using it in a for loop.\n"
   ]
  },
  {
   "cell_type": "code",
   "execution_count": 9,
   "id": "d8555b98",
   "metadata": {},
   "outputs": [
    {
     "name": "stdout",
     "output_type": "stream",
     "text": [
      "1\n",
      "2\n",
      "3\n",
      "4\n",
      "5\n",
      "6\n",
      "7\n",
      "8\n",
      "9\n"
     ]
    }
   ],
   "source": [
    "class MyRange:\n",
    "    def __init__(self, start, end):\n",
    "        self.current = start\n",
    "        self.end = end\n",
    "\n",
    "    def __iter__(self):\n",
    "        return self\n",
    "    \n",
    "    def __next__(self):\n",
    "        if self.current >= self.end:\n",
    "            raise StopIteration\n",
    "        else:\n",
    "            self.current += 1\n",
    "            return self.current - 1\n",
    "            \n",
    "    \n",
    "\n",
    "for i in MyRange(1, 10):\n",
    "    print(i)"
   ]
  },
  {
   "cell_type": "markdown",
   "id": "2a8865c7",
   "metadata": {},
   "source": [
    "### Assignment 3: Generator Function\n",
    "\n",
    "Write a generator function named `fibonacci` that yields the Fibonacci sequence. Test the generator by iterating over it and printing the first 10 Fibonacci numbers.\n"
   ]
  },
  {
   "cell_type": "code",
   "execution_count": 11,
   "id": "46377422",
   "metadata": {},
   "outputs": [
    {
     "name": "stdout",
     "output_type": "stream",
     "text": [
      "1\n",
      "1\n",
      "2\n",
      "3\n",
      "5\n",
      "8\n",
      "13\n",
      "21\n",
      "34\n",
      "55\n",
      "89\n"
     ]
    }
   ],
   "source": [
    "def fibonacci(n):\n",
    "    a, b = 0, 1\n",
    "    for _ in range(n+1):\n",
    "        yield b\n",
    "        a, b = b , a+ b\n",
    "\n",
    "for i in fibonacci(10):\n",
    "    print(i)"
   ]
  },
  {
   "cell_type": "markdown",
   "id": "7ebfce46",
   "metadata": {},
   "source": [
    "### Assignment 4: Generator Expression\n",
    "\n",
    "Create a generator expression that generates the squares of numbers from 1 to 10. Iterate over the generator and print each value."
   ]
  },
  {
   "cell_type": "code",
   "execution_count": 12,
   "id": "da8e05c0",
   "metadata": {},
   "outputs": [
    {
     "name": "stdout",
     "output_type": "stream",
     "text": [
      "1\n",
      "4\n",
      "9\n",
      "16\n",
      "25\n",
      "36\n",
      "49\n",
      "64\n",
      "81\n",
      "100\n"
     ]
    }
   ],
   "source": [
    "squared_numbers = (i**2 for i in range(1, 11))\n",
    "\n",
    "for i in squared_numbers:\n",
    "    print(i)"
   ]
  },
  {
   "cell_type": "markdown",
   "id": "31036496",
   "metadata": {},
   "source": [
    "### Assignment 5: Chaining Generators\n",
    "\n",
    "Write two generator functions: `even_numbers` that yields even numbers up to a limit, and `squares` that yields the square of each number from another generator. Chain these generators to produce the squares of even numbers up to 20."
   ]
  },
  {
   "cell_type": "code",
   "execution_count": 17,
   "id": "b926136b",
   "metadata": {},
   "outputs": [
    {
     "name": "stdout",
     "output_type": "stream",
     "text": [
      "0\n",
      "4\n",
      "16\n",
      "36\n",
      "64\n",
      "100\n",
      "144\n",
      "196\n",
      "256\n",
      "324\n",
      "400\n"
     ]
    }
   ],
   "source": [
    "def even_numbers(n):\n",
    "    for i in range(n+1):\n",
    "        if i%2 == 0:\n",
    "            yield i\n",
    "\n",
    "\n",
    "def squares(even_list):\n",
    "    for i in even_list:\n",
    "        yield i**2\n",
    "\n",
    "\n",
    "ev_list = even_numbers(20)\n",
    "squared = squares(ev_list)\n",
    "\n",
    "for i in squared:\n",
    "    print(i)"
   ]
  },
  {
   "cell_type": "markdown",
   "id": "9fe03c29",
   "metadata": {},
   "source": [
    "### Assignment 6: Simple Decorator\n",
    "\n",
    "Write a decorator named `time_it` that measures the execution time of a function. Apply this decorator to a function that calculates the factorial of a number."
   ]
  },
  {
   "cell_type": "code",
   "execution_count": 27,
   "id": "38c1d296",
   "metadata": {},
   "outputs": [
    {
     "name": "stdout",
     "output_type": "stream",
     "text": [
      "1\n",
      "2\n",
      "6\n",
      "24\n",
      "120\n",
      "720\n",
      "Total elapsd time: 0.0006861686706542969\n"
     ]
    },
    {
     "data": {
      "text/plain": [
       "720"
      ]
     },
     "execution_count": 27,
     "metadata": {},
     "output_type": "execute_result"
    }
   ],
   "source": [
    "import time\n",
    "\n",
    "def time_it(func):\n",
    "    def wrapper(*args, **kwargs):\n",
    "        current_time = time.time()\n",
    "        result = func(*args, **kwargs)\n",
    "        elapsed_time = time.time()\n",
    "        print(f'Total elapsd time: {elapsed_time - current_time}')\n",
    "        return result\n",
    "    return wrapper\n",
    "\n",
    "@time_it\n",
    "def factorial(n):\n",
    "    factorial = 1\n",
    "    if n == 0:\n",
    "        return 1\n",
    "    else:\n",
    "        for i in range(1, n+1):\n",
    "            factorial *= i\n",
    "            print(factorial)\n",
    "    return factorial\n",
    "\n",
    "factorial(6)"
   ]
  },
  {
   "cell_type": "markdown",
   "id": "6a3ff80a",
   "metadata": {},
   "source": [
    "### Assignment 7: Decorator with Arguments\n",
    "\n",
    "Write a decorator named `repeat` that takes an argument `n` and repeats the execution of the decorated function `n` times. Apply this decorator to a function that prints a message.\n",
    "\n"
   ]
  },
  {
   "cell_type": "code",
   "execution_count": 33,
   "id": "c41497f9",
   "metadata": {},
   "outputs": [
    {
     "name": "stdout",
     "output_type": "stream",
     "text": [
      "Hello world!\n",
      "Hello world!\n",
      "Hello world!\n"
     ]
    }
   ],
   "source": [
    "def repeat(n):\n",
    "    def repeater(func):\n",
    "        def wrapper(*args, **kwargs):\n",
    "            for _ in range(n):\n",
    "                func(*args, **kwargs)\n",
    "        return wrapper\n",
    "    return repeater\n",
    "\n",
    "\n",
    "@repeat(3)\n",
    "def print_message(message):\n",
    "    print(message)\n",
    "\n",
    "print_message('Hello world!')"
   ]
  },
  {
   "cell_type": "markdown",
   "id": "801cf567",
   "metadata": {},
   "source": [
    "### Assignment 8: Nested Decorators\n",
    "\n",
    "Write two decorators: `uppercase` that converts the result of a function to uppercase, and `exclaim` that adds an exclamation mark to the result of a function. Apply both decorators to a function that returns a greeting message.\n",
    "\n"
   ]
  },
  {
   "cell_type": "code",
   "execution_count": 8,
   "id": "3e9e9a49",
   "metadata": {},
   "outputs": [
    {
     "data": {
      "text/plain": [
       "'HELLO, KP KUMAR!'"
      ]
     },
     "execution_count": 8,
     "metadata": {},
     "output_type": "execute_result"
    }
   ],
   "source": [
    "def uppercase(func):\n",
    "    def wrapper(*args, **kwargs):\n",
    "        result =  func(*args, **kwargs)\n",
    "        result = result.upper()\n",
    "        return result\n",
    "    return wrapper\n",
    "\n",
    "def exclaim(func):\n",
    "    def wrapper(*args, **kwargs):\n",
    "        result = func(*args, **kwargs)\n",
    "        result = result + '!'\n",
    "        return result\n",
    "    return wrapper\n",
    "    \n",
    "\n",
    "@uppercase\n",
    "@exclaim\n",
    "def two_decorators(name):\n",
    "    return f'Hello, {name}'\n",
    "\n",
    "\n",
    "two_decorators('kp Kumar')"
   ]
  },
  {
   "cell_type": "markdown",
   "id": "bf3326d5",
   "metadata": {},
   "source": [
    "### Assignment 9: Class Decorator\n",
    "\n",
    "Create a class decorator named `singleton` that ensures a class has only one instance. Apply this decorator to a class named `DatabaseConnection` and test it.\n"
   ]
  },
  {
   "cell_type": "code",
   "execution_count": 10,
   "id": "a79ae989",
   "metadata": {},
   "outputs": [
    {
     "name": "stdout",
     "output_type": "stream",
     "text": [
      "Database Connection Created!!\n",
      "{<class '__main__.DataBaseConnection'>: <__main__.DataBaseConnection object at 0x1103139e0>}\n",
      "{<class '__main__.DataBaseConnection'>: <__main__.DataBaseConnection object at 0x1103139e0>}\n",
      "db1 <__main__.DataBaseConnection object at 0x1103139e0>\n",
      "Blah\n",
      "<__main__.DataBaseConnection object at 0x1103139e0>\n"
     ]
    }
   ],
   "source": [
    "def singleton(cls):\n",
    "    instances = {}\n",
    "    def get_instance(*args, **kwargs):\n",
    "        if cls not in instances:\n",
    "            instances[cls] = cls(*args, **kwargs)\n",
    "        print(instances)\n",
    "        return instances[cls]\n",
    "    return get_instance\n",
    "\n",
    "@singleton\n",
    "class DataBaseConnection:\n",
    "    def __init__(self):\n",
    "        print('Database Connection Created!!')\n",
    "\n",
    "\n",
    "db1 = DataBaseConnection()\n",
    "db2 = DataBaseConnection()\n",
    "print(\"db1\", db1)\n",
    "print('Blah')\n",
    "print(db2)"
   ]
  },
  {
   "cell_type": "markdown",
   "id": "92e0b3a5",
   "metadata": {},
   "source": [
    "### Assignment 10: Iterator Protocol with Decorators\n",
    "\n",
    "Create a custom iterator class named `ReverseString` that iterates over a string in reverse. Write a decorator named `uppercase` that converts the string to uppercase before reversing it. Apply the decorator to the `ReverseString` class."
   ]
  },
  {
   "cell_type": "code",
   "execution_count": 42,
   "id": "cdbd1616",
   "metadata": {},
   "outputs": [
    {
     "name": "stdout",
     "output_type": "stream",
     "text": [
      "OLLEH\n"
     ]
    }
   ],
   "source": [
    "def uppercase(cls):\n",
    "    class Wrapped(cls):\n",
    "        def __init__(self, *args, **kwargs):\n",
    "            super().__init__(*args, **kwargs)\n",
    "            self.input_string = self.input_string.upper()\n",
    "    return Wrapped\n",
    "\n",
    "\n",
    "\n",
    "@uppercase\n",
    "class ReverseString:\n",
    "    def __init__(self, input_string):\n",
    "        self.input_string = input_string\n",
    "    \n",
    "    def __iter__(self):\n",
    "        self.current_index = len(self.input_string)\n",
    "        return self\n",
    "    \n",
    "    def __next__(self):\n",
    "        if self.current_index == 0:\n",
    "            raise StopIteration\n",
    "        self.current_index -= 1\n",
    "        return self.input_string[self.current_index]\n",
    "\n",
    "    def reverse_it(self):\n",
    "        return ''.join(reversed(self.input_string))\n",
    "    \n",
    "\n",
    "str_1 = ReverseString('Hello')\n",
    "print(str_1.reverse_it())"
   ]
  },
  {
   "cell_type": "code",
   "execution_count": 33,
   "id": "bfd0dfb0",
   "metadata": {},
   "outputs": [
    {
     "name": "stdout",
     "output_type": "stream",
     "text": [
      "4\n",
      "olleH\n"
     ]
    }
   ],
   "source": [
    "temp = 'Hello'\n",
    "index = len(temp) -1\n",
    "print(index)\n",
    "reversed_string = ''\n",
    "for i in temp:\n",
    "    if index < 0:\n",
    "        raise StopIteration\n",
    "    else:\n",
    "        reversed_string += temp[index]\n",
    "        index -= 1\n",
    "print(reversed_string)\n",
    "\n",
    "    "
   ]
  },
  {
   "cell_type": "markdown",
   "id": "78240198",
   "metadata": {},
   "source": [
    "### Assignment 11: Stateful Generators\n",
    "\n",
    "Write a stateful generator function named `counter` that takes a start value and increments it by 1 each time it is called. Test the generator by iterating over it and printing the first 10 values.\n"
   ]
  },
  {
   "cell_type": "code",
   "execution_count": 44,
   "id": "624aee55",
   "metadata": {},
   "outputs": [
    {
     "name": "stdout",
     "output_type": "stream",
     "text": [
      "0\n",
      "1\n",
      "2\n",
      "3\n",
      "4\n",
      "5\n",
      "6\n",
      "7\n",
      "8\n",
      "9\n"
     ]
    }
   ],
   "source": [
    "def counter(start_value):\n",
    "    current = start_value\n",
    "    while True:\n",
    "        yield current\n",
    "        current += 1\n",
    "    \n",
    "count = counter(0)\n",
    "for _ in range(10):\n",
    "    print(next(count))"
   ]
  },
  {
   "cell_type": "markdown",
   "id": "00074cd3",
   "metadata": {},
   "source": [
    "### Assignment 12: Generator with Exception Handling\n",
    "\n",
    "Write a generator function named `safe_divide` that takes a list of numbers and yields the division of each number by a given divisor. Implement exception handling within the generator to handle division by zero.\n",
    "\n",
    "### Assignment 13: Context Manager Decorator\n",
    "\n",
    "Write a decorator named `open_file` that manages the opening and closing of a file. Apply this decorator to a function that writes some text to a file.\n",
    "\n",
    "### Assignment 14: Infinite Iterator\n",
    "\n",
    "Create an infinite iterator class named `InfiniteCounter` that starts from a given number and increments by 1 indefinitely. Test the iterator by printing the first 10 values generated by it.\n",
    "\n",
    "### Assignment 15: Generator Pipeline\n",
    "\n",
    "Write three generator functions: `integers` that yields integers from 1 to 10, `doubles` that yields each integer doubled, and `negatives` that yields the negative of each doubled value. Chain these generators to create a pipeline that produces the negative doubled values of integers from 1 to 10."
   ]
  },
  {
   "cell_type": "code",
   "execution_count": null,
   "id": "ec344185",
   "metadata": {},
   "outputs": [],
   "source": []
  },
  {
   "cell_type": "code",
   "execution_count": null,
   "metadata": {},
   "outputs": [],
   "source": []
  }
 ],
 "metadata": {
  "kernelspec": {
   "display_name": "base",
   "language": "python",
   "name": "python3"
  },
  "language_info": {
   "codemirror_mode": {
    "name": "ipython",
    "version": 3
   },
   "file_extension": ".py",
   "mimetype": "text/x-python",
   "name": "python",
   "nbconvert_exporter": "python",
   "pygments_lexer": "ipython3",
   "version": "3.12.4"
  }
 },
 "nbformat": 4,
 "nbformat_minor": 5
}
