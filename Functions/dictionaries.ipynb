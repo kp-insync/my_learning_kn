{
 "cells": [
  {
   "cell_type": "code",
   "execution_count": 5,
   "metadata": {},
   "outputs": [
    {
     "name": "stdout",
     "output_type": "stream",
     "text": [
      "{1: 1, 2: 2, 3: 3, 4: 4}\n"
     ]
    }
   ],
   "source": [
    "## Count the number of times the each numnber repeated in a list using dictionary\n",
    "\n",
    "numbers =  [1, 2, 2, 3, 3, 3, 4, 4, 4, 4]\n",
    "\n",
    "# dict = {number:numbers.count(number) for number in numbers if number not in keys()}\n",
    "\n",
    "for number in numbers:\n",
    "    if number not in dict.keys():\n",
    "        dict[number] = numbers.count(number)\n",
    "    else:\n",
    "        pass\n",
    "\n",
    "print(dict)"
   ]
  }
 ],
 "metadata": {
  "kernelspec": {
   "display_name": "Python 3",
   "language": "python",
   "name": "python3"
  },
  "language_info": {
   "codemirror_mode": {
    "name": "ipython",
    "version": 3
   },
   "file_extension": ".py",
   "mimetype": "text/x-python",
   "name": "python",
   "nbconvert_exporter": "python",
   "pygments_lexer": "ipython3",
   "version": "3.12.3"
  }
 },
 "nbformat": 4,
 "nbformat_minor": 2
}
