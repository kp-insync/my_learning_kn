{
 "cells": [
  {
   "cell_type": "code",
   "execution_count": 1,
   "metadata": {},
   "outputs": [
    {
     "name": "stdout",
     "output_type": "stream",
     "text": [
      "Puppy barks woof!!!\n"
     ]
    }
   ],
   "source": [
    "# Create a base class named `Animal` with attributes `name` and `species`. Create a derived class named `Dog` that inherits from `Animal` and adds an attribute `breed`. Create an object of the `Dog` class and print its attributes.\n",
    "\n",
    "class Animal():\n",
    "    def __init__(self, name, species):\n",
    "        self.name = name\n",
    "        self.species = species\n",
    "\n",
    "\n",
    "class Dog(Animal):\n",
    "    def __init__(self, name, species, breed):\n",
    "        super().__init__(name, species)\n",
    "        self.breed = breed\n",
    "\n",
    "    def bark(self):\n",
    "        print(f'{self.name} barks woof!!!')\n",
    "\n",
    "dog_1 = Dog('Puppy', 'no species', 'golden retriever')\n",
    "dog_1.species\n",
    "dog_1.bark()"
   ]
  },
  {
   "cell_type": "code",
   "execution_count": 22,
   "metadata": {},
   "outputs": [
    {
     "name": "stdout",
     "output_type": "stream",
     "text": [
      "This is a walking message\n",
      "This is running message\n"
     ]
    }
   ],
   "source": [
    "#base class\n",
    "class Walker:\n",
    "    def walk(self):\n",
    "        print(\"This is a walking message\")\n",
    "\n",
    "class Runner:\n",
    "    def run(self):\n",
    "        print(\"This is running message\")\n",
    "\n",
    "# derived class\n",
    "class Athlete(Walker, Runner):\n",
    "    pass\n",
    "\n",
    "\n",
    "athlete_1 = Athlete()\n",
    "athlete_1.walk()\n",
    "athlete_1.run()"
   ]
  },
  {
   "cell_type": "code",
   "execution_count": 10,
   "metadata": {},
   "outputs": [
    {
     "name": "stdout",
     "output_type": "stream",
     "text": [
      "This is a message from show method from class C\n"
     ]
    }
   ],
   "source": [
    "class A:\n",
    "    def show(self):\n",
    "        print('This is a message from show method from class A')\n",
    "\n",
    "\n",
    "class B(A):\n",
    "    def show(self):\n",
    "        print('This is a message from show method from class B')\n",
    "\n",
    "\n",
    "class C(A):\n",
    "    def show(self):\n",
    "        print('This is a message from show method from class C')\n",
    "\n",
    "class D(B, C):\n",
    "    def temp(self):\n",
    "        pass\n",
    "\n",
    "d = D()\n",
    "d.show()"
   ]
  },
  {
   "cell_type": "code",
   "execution_count": 17,
   "metadata": {},
   "outputs": [
    {
     "name": "stdout",
     "output_type": "stream",
     "text": [
      "25\n"
     ]
    }
   ],
   "source": [
    "class Shape:\n",
    "    def __init__(self, color):\n",
    "        self.color = color\n",
    "\n",
    "\n",
    "class Circle(Shape):\n",
    "    def __init__(self, color, radius):\n",
    "        super().__init__(color)\n",
    "        self.radius = radius\n",
    "\n",
    "\n",
    "circle_1 = Circle('White', 25)\n",
    "print(circle_1.radius)"
   ]
  },
  {
   "cell_type": "code",
   "execution_count": null,
   "metadata": {},
   "outputs": [
    {
     "data": {
      "text/plain": [
       "'101'"
      ]
     },
     "execution_count": 21,
     "metadata": {},
     "output_type": "execute_result"
    }
   ],
   "source": [
    "class Person:\n",
    "    def __init__(self, name):\n",
    "        self.name = name\n",
    "\n",
    "class Employee:\n",
    "    def __init__(self, employee_id):\n",
    "        self.employee_id = employee_id\n",
    "\n",
    "class Manager(Person, Employee):\n",
    "    def __init__(self, name, employee_id):\n",
    "        Person.__init__(self, name)\n",
    "        Employee.__init__(self, employee_id)\n",
    "\n",
    "manager_1 = Manager('Kp', '101') \n",
    "manager_1.employee_id"
   ]
  },
  {
   "cell_type": "code",
   "execution_count": null,
   "metadata": {},
   "outputs": [],
   "source": [
    "class Vehicle:\n",
    "    def start(self):\n",
    "        print('Starting message from Vehicle')\n",
    "\n",
    "\n",
    "class Car():\n",
    "    def start(self):\n",
    "        print('This is a start from Car')\n",
    "\n"
   ]
  }
 ],
 "metadata": {
  "kernelspec": {
   "display_name": "venv",
   "language": "python",
   "name": "python3"
  },
  "language_info": {
   "codemirror_mode": {
    "name": "ipython",
    "version": 3
   },
   "file_extension": ".py",
   "mimetype": "text/x-python",
   "name": "python",
   "nbconvert_exporter": "python",
   "pygments_lexer": "ipython3",
   "version": "3.12.0"
  }
 },
 "nbformat": 4,
 "nbformat_minor": 2
}
