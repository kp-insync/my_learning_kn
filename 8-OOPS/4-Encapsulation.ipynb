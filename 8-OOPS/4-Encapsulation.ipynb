{
 "cells": [
  {
   "cell_type": "markdown",
   "metadata": {},
   "source": [
    "#### Encapsulation & Abstraction\n",
    "\n",
    "Encapsulation involves bundling data and methods that operate on the data within single unit\n",
    "- Concept of wrapping the data(variables) and methods(functions) together as a single unit.\n",
    "- It restricts direct access to some of the object's components\n",
    "- Which means preventing accidental inference and misuse of data\n",
    "\n",
    "Abstraction involves hiding complex implementation and exposing only the necessary features"
   ]
  },
  {
   "cell_type": "code",
   "execution_count": 2,
   "metadata": {},
   "outputs": [
    {
     "data": {
      "text/plain": [
       "'The person name is Kp'"
      ]
     },
     "execution_count": 2,
     "metadata": {},
     "output_type": "execute_result"
    }
   ],
   "source": [
    "### Encapsulation with Getter and Setter methods\n",
    "## Public, Protected and Private variables\n",
    "\n",
    "class Person:\n",
    "    def __init__(self, name, age):\n",
    "        self.name = name  ## Public variable\n",
    "        self.age = age  ## public variable\n",
    "\n",
    "\n",
    "def get_name(person):\n",
    "    return f\"The person name is {person.name}\"\n",
    "\n",
    "person_1 = Person('Kp', 30)\n",
    "get_name(person_1)"
   ]
  },
  {
   "cell_type": "code",
   "execution_count": 6,
   "metadata": {},
   "outputs": [
    {
     "ename": "AttributeError",
     "evalue": "'Person' object has no attribute '__name'",
     "output_type": "error",
     "traceback": [
      "\u001b[0;31m---------------------------------------------------------------------------\u001b[0m",
      "\u001b[0;31mAttributeError\u001b[0m                            Traceback (most recent call last)",
      "Cell \u001b[0;32mIn[6], line 13\u001b[0m\n\u001b[1;32m      9\u001b[0m     \u001b[38;5;28;01mreturn\u001b[39;00m person\u001b[38;5;241m.\u001b[39m__name\n\u001b[1;32m     12\u001b[0m person_2 \u001b[38;5;241m=\u001b[39m Person(\u001b[38;5;124m'\u001b[39m\u001b[38;5;124mKp\u001b[39m\u001b[38;5;124m'\u001b[39m, \u001b[38;5;241m30\u001b[39m, \u001b[38;5;124m\"\u001b[39m\u001b[38;5;124mMale\u001b[39m\u001b[38;5;124m\"\u001b[39m)\n\u001b[0;32m---> 13\u001b[0m \u001b[43mget_name\u001b[49m\u001b[43m(\u001b[49m\u001b[43mperson_2\u001b[49m\u001b[43m)\u001b[49m\n",
      "Cell \u001b[0;32mIn[6], line 9\u001b[0m, in \u001b[0;36mget_name\u001b[0;34m(person)\u001b[0m\n\u001b[1;32m      8\u001b[0m \u001b[38;5;28;01mdef\u001b[39;00m \u001b[38;5;21mget_name\u001b[39m(person):\n\u001b[0;32m----> 9\u001b[0m     \u001b[38;5;28;01mreturn\u001b[39;00m \u001b[43mperson\u001b[49m\u001b[38;5;241;43m.\u001b[39;49m\u001b[43m__name\u001b[49m\n",
      "\u001b[0;31mAttributeError\u001b[0m: 'Person' object has no attribute '__name'"
     ]
    }
   ],
   "source": [
    "class Person:\n",
    "    def __init__(self, name, age, gender):\n",
    "        self.__name = name  ## Private variable\n",
    "        self.__age = age  ## private variable\n",
    "        self.gender = gender\n",
    "\n",
    "\n",
    "def get_name(person):\n",
    "    return person.__name\n",
    "\n",
    "\n",
    "person_2 = Person('Kp', 30, \"Male\")\n",
    "get_name(person_2)"
   ]
  },
  {
   "cell_type": "code",
   "execution_count": 9,
   "metadata": {},
   "outputs": [
    {
     "data": {
      "text/plain": [
       "'Kp'"
      ]
     },
     "execution_count": 9,
     "metadata": {},
     "output_type": "execute_result"
    }
   ],
   "source": [
    "class Person:\n",
    "    def __init__(self, name, age, gender):\n",
    "        self._name = name  ## Protected variable (only be accessed from a derived class)\n",
    "        self._age = age  ## Protected variable\n",
    "        self.gender = gender\n",
    "\n",
    "\n",
    "class Employee(Person):\n",
    "    def __init__(self, name, age, gender):\n",
    "        super().__init__(name, age, gender)\n",
    "\n",
    "\n",
    "\n",
    "employee_1 = Employee('Kp', 30, 'Male')\n",
    "employee_1._name"
   ]
  },
  {
   "cell_type": "code",
   "execution_count": 13,
   "metadata": {},
   "outputs": [
    {
     "name": "stdout",
     "output_type": "stream",
     "text": [
      "Kp\n",
      "30\n"
     ]
    },
    {
     "data": {
      "text/plain": [
       "'Age cannot be 0'"
      ]
     },
     "execution_count": 13,
     "metadata": {},
     "output_type": "execute_result"
    }
   ],
   "source": [
    "## Encapsulation with getter and setter\n",
    "\n",
    "class Person:\n",
    "    def __init__(self, name, age):\n",
    "        self.__name=name\n",
    "        self.__age=age\n",
    "\n",
    "    ## Getter method for name\n",
    "    def get_name(self):\n",
    "        return self.__name\n",
    "    \n",
    "    ## Setter Method for name\n",
    "    def set_name(self, name):\n",
    "        self.__name=name\n",
    "\n",
    "    ## Getter method for age\n",
    "    def get_age(self):\n",
    "        return self.__age\n",
    "    \n",
    "    ## Setter method for age\n",
    "    def set_age(self, age):\n",
    "        if age > 0:\n",
    "            self.__age=age\n",
    "        else:\n",
    "            return \"Age cannot be 0\"\n",
    "        \n",
    "\n",
    "person_3 = Person('Kp', 30)\n",
    "\n",
    "# Access or modify private variables using getter and setter methods\n",
    "\n",
    "print(person_3.get_name())\n",
    "print(person_3.get_age())\n",
    "\n",
    "person_3.set_age(31)\n",
    "person_3.set_name('Kp Kumar')\n",
    "\n",
    "person_3.get_age()\n",
    "person_3.set_age(-2)\n"
   ]
  },
  {
   "cell_type": "code",
   "execution_count": null,
   "metadata": {},
   "outputs": [],
   "source": []
  }
 ],
 "metadata": {
  "kernelspec": {
   "display_name": "Python 3",
   "language": "python",
   "name": "python3"
  },
  "language_info": {
   "codemirror_mode": {
    "name": "ipython",
    "version": 3
   },
   "file_extension": ".py",
   "mimetype": "text/x-python",
   "name": "python",
   "nbconvert_exporter": "python",
   "pygments_lexer": "ipython3",
   "version": "3.12.4"
  }
 },
 "nbformat": 4,
 "nbformat_minor": 2
}
