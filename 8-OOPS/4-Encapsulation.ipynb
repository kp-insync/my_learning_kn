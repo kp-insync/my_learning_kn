{
 "cells": [
  {
   "cell_type": "markdown",
   "metadata": {},
   "source": [
    "#### Encapsulation & Abstraction\n",
    "\n",
    "Encapsulation involves bundling data and methods that operate on the data within single unit\n",
    "- Concept of wrapping the data(variables) and methods(functions) together as a single unit.\n",
    "- It restricts direct access to some of the object's components\n",
    "- Which means preventing accidental inference and misuse of data\n",
    "\n",
    "Abstraction involves hiding complex implementation and exposing only the necessary features"
   ]
  },
  {
   "cell_type": "code",
   "execution_count": null,
   "metadata": {},
   "outputs": [],
   "source": [
    "### Encapsulation with Getter and Setter methods\n",
    "## Public, Protected and Private variables\n"
   ]
  }
 ],
 "metadata": {
  "kernelspec": {
   "display_name": "Python 3",
   "language": "python",
   "name": "python3"
  },
  "language_info": {
   "name": "python",
   "version": "3.12.3"
  }
 },
 "nbformat": 4,
 "nbformat_minor": 2
}
