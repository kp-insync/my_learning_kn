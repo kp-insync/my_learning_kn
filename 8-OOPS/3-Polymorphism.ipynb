{
 "cells": [
  {
   "cell_type": "markdown",
   "metadata": {},
   "source": [
    "#### Method Overriding\n",
    "\n",
    "Method overriding allows a child class to provide a specific implementation of a method that is already defined in it's parent class"
   ]
  },
  {
   "cell_type": "code",
   "execution_count": 5,
   "metadata": {},
   "outputs": [
    {
     "name": "stdout",
     "output_type": "stream",
     "text": [
      "Dog makes the sound 'Woof'!\n",
      "Cat says 'Meow!'\n",
      "Dog makes the sound 'Woof'!\n",
      "Cat says 'Meow!'\n"
     ]
    }
   ],
   "source": [
    "## Base class\n",
    "class Animal:\n",
    "    def speak(self):\n",
    "        return \"Sound of the animal\"\n",
    "    \n",
    "# Derived class\n",
    "class Dog(Animal):\n",
    "    def speak(self):\n",
    "        return \"Dog makes the sound 'Woof'!\"\n",
    "    \n",
    "\n",
    "# another derived class\n",
    "class Cat(Animal):\n",
    "    def speak(self):\n",
    "        return \"Cat says 'Meow!'\"\n",
    "    \n",
    "\n",
    "# Function that demonstrates Polymorphism\n",
    "def animal_speak(animal):\n",
    "    print(animal.speak())\n",
    "\n",
    "    \n",
    "\n",
    "dog_1 = Dog()\n",
    "print(dog_1.speak())\n",
    "cat_1=Cat()\n",
    "print(cat_1.speak())\n",
    "animal_speak(dog_1)\n",
    "animal_speak(cat_1)"
   ]
  },
  {
   "cell_type": "code",
   "execution_count": 8,
   "metadata": {},
   "outputs": [
    {
     "name": "stdout",
     "output_type": "stream",
     "text": [
      "Area is Area of the rectangle is 20\n",
      "Area is The area of the circle is 28.2744\n"
     ]
    }
   ],
   "source": [
    "### Polymorphism with functions and methods\n",
    "## Base class\n",
    "\n",
    "class Shape:\n",
    "    def area(self):\n",
    "        return \"The area of the figure\"\n",
    "    \n",
    "\n",
    "## Derived class 1\n",
    "class Rectangle(Shape):\n",
    "    def __init__(self,width,height):\n",
    "        self.width = width\n",
    "        self.height = height\n",
    "    \n",
    "    def area(self):\n",
    "        return f\"Area of the rectangle is {self.width*self.height}\"\n",
    "\n",
    "\n",
    "## Derived class 2\n",
    "\n",
    "class Circle(Shape):\n",
    "    def __init__(self, radius):\n",
    "        self.radius = radius\n",
    "    \n",
    "    def area(self):\n",
    "        return f\"The area of the circle is {3.1416*(self.radius**2)}\"\n",
    "    \n",
    "\n",
    "# Function that demonstrates polymorphisom\n",
    "def print_area(shape):\n",
    "    print(f\"Area is {shape.area()}\")\n",
    "\n",
    "\n",
    "rectangle_1 = Rectangle(width=4, height=5)\n",
    "circle_1 = Circle(radius=3)\n",
    "\n",
    "print_area(rectangle_1)\n",
    "print_area(circle_1)"
   ]
  },
  {
   "cell_type": "markdown",
   "metadata": {},
   "source": [
    "### Polymorphism with Abstract Base Classes\n",
    "\n",
    "Abstract Base Classes are used to define common methods for group of related objects. They can enforce that derived classes implement particular methods, promption consistency across different implementations"
   ]
  },
  {
   "cell_type": "markdown",
   "metadata": {},
   "source": []
  },
  {
   "cell_type": "code",
   "execution_count": 10,
   "metadata": {},
   "outputs": [
    {
     "name": "stdout",
     "output_type": "stream",
     "text": [
      "Car engine started is started now\n",
      "Motorcycle engine started is started now\n"
     ]
    }
   ],
   "source": [
    "## Polymorphism with abstract base class (interfaces)\n",
    "from abc import ABC,abstractmethod\n",
    "\n",
    "# Define an abstract class\n",
    "class Vehicle(ABC):\n",
    "    @abstractmethod\n",
    "    def start_engine(self):\n",
    "        pass\n",
    "\n",
    "## Derived class 1\n",
    "class Car(Vehicle):\n",
    "    def start_engine(self):\n",
    "        return \"Car engine started\"\n",
    "    \n",
    "\n",
    "## Derived class 2\n",
    "class Motorcycle(Vehicle):\n",
    "    def start_engine(self):\n",
    "        return \"Motorcycle engine started\"\n",
    "    \n",
    "\n",
    "## function that demonstrates the polymorphism\n",
    "def start_vehicle(vehicle):\n",
    "    print(f'{vehicle.start_engine()} is started now')\n",
    "\n",
    "\n",
    "# Created objects of Car and Motorcycle\n",
    "car = Car()\n",
    "motorcycle = Motorcycle()\n",
    "\n",
    "start_vehicle(car)\n",
    "start_vehicle(motorcycle)"
   ]
  },
  {
   "cell_type": "code",
   "execution_count": null,
   "metadata": {},
   "outputs": [],
   "source": []
  }
 ],
 "metadata": {
  "kernelspec": {
   "display_name": "Python 3",
   "language": "python",
   "name": "python3"
  },
  "language_info": {
   "codemirror_mode": {
    "name": "ipython",
    "version": 3
   },
   "file_extension": ".py",
   "mimetype": "text/x-python",
   "name": "python",
   "nbconvert_exporter": "python",
   "pygments_lexer": "ipython3",
   "version": "3.12.3"
  }
 },
 "nbformat": 4,
 "nbformat_minor": 2
}
